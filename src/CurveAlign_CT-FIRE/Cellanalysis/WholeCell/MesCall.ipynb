{
 "cells": [
  {
   "cell_type": "code",
   "execution_count": 1,
   "id": "f73696f3",
   "metadata": {},
   "outputs": [],
   "source": [
    "from skimage.io import imread\n",
    "from deepcell.applications import CytoplasmSegmentation\n",
    "import numpy as np"
   ]
  },
  {
   "cell_type": "code",
   "execution_count": 8,
   "id": "9e726b5c",
   "metadata": {},
   "outputs": [
    {
     "name": "stdout",
     "output_type": "stream",
     "text": [
      "WARNING:tensorflow:SavedModel saved prior to TF 2.5 detected when loading Keras model. Please ensure that you are saving the model with model.save() or tf.keras.models.save_model(), *NOT* tf.saved_model.save(). To confirm, there should be a file named \"keras_metadata.pb\" in the SavedModel directory.\n"
     ]
    },
    {
     "name": "stderr",
     "output_type": "stream",
     "text": [
      "WARNING:tensorflow:SavedModel saved prior to TF 2.5 detected when loading Keras model. Please ensure that you are saving the model with model.save() or tf.keras.models.save_model(), *NOT* tf.saved_model.save(). To confirm, there should be a file named \"keras_metadata.pb\" in the SavedModel directory.\n"
     ]
    },
    {
     "name": "stdout",
     "output_type": "stream",
     "text": [
      "WARNING:tensorflow:No training configuration found in save file, so the model was *not* compiled. Compile it manually.\n"
     ]
    },
    {
     "name": "stderr",
     "output_type": "stream",
     "text": [
      "WARNING:tensorflow:No training configuration found in save file, so the model was *not* compiled. Compile it manually.\n"
     ]
    }
   ],
   "source": [
    "# Load the image\n",
    "im = imread('tests/F01_366w1_copy.tif')\n",
    "\n",
    "# Expand image dimensions to rank 4\n",
    "im = np.expand_dims(im, axis=-1)\n",
    "im = np.expand_dims(im, axis=0)\n",
    "\n",
    "# Create the application\n",
    "app = CytoplasmSegmentation()\n",
    "\n",
    "# create the lab\n",
    "labeled_image = app.predict(im)"
   ]
  },
  {
   "cell_type": "code",
   "execution_count": 9,
   "id": "332aca0f",
   "metadata": {},
   "outputs": [
    {
     "name": "stdout",
     "output_type": "stream",
     "text": [
      "(1040, 1392)\n"
     ]
    }
   ],
   "source": [
    "# print(labeled_image.shape)\n",
    "# from PIL import Image\n",
    "# result = Image.fromarray(labeled_image)\n",
    "# result.save('test.tif')\n",
    "labeled_image_reshape = labeled_image[0,:,:,0]\n",
    "print(labeled_image_reshape.shape)\n",
    "from PIL import Image\n",
    "result = Image.fromarray(labeled_image_reshape)\n",
    "result.save('F01_366w1_copy_mesmer.tif')"
   ]
  },
  {
   "cell_type": "code",
   "execution_count": null,
   "id": "a30cd016",
   "metadata": {},
   "outputs": [],
   "source": []
  }
 ],
 "metadata": {
  "kernelspec": {
   "display_name": "Python 3 (ipykernel)",
   "language": "python",
   "name": "python3"
  },
  "language_info": {
   "codemirror_mode": {
    "name": "ipython",
    "version": 3
   },
   "file_extension": ".py",
   "mimetype": "text/x-python",
   "name": "python",
   "nbconvert_exporter": "python",
   "pygments_lexer": "ipython3",
   "version": "3.8.0"
  }
 },
 "nbformat": 4,
 "nbformat_minor": 5
}
